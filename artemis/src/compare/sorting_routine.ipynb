{
 "cells": [
  {
   "cell_type": "code",
   "execution_count": 2,
   "metadata": {},
   "outputs": [],
   "source": [
    "import numpy as np"
   ]
  },
  {
   "cell_type": "code",
   "execution_count": 57,
   "metadata": {},
   "outputs": [],
   "source": [
    "def get_k_min(scores, k):\n",
    "    proper_form = b = np.array(scores,dtype=[('id', 'U10'), ('distance', 'i8')])\n",
    "    return np.sort(\n",
    "        proper_form[proper_form.argpartition(k,order = ['distance'])[0:k]],\n",
    "        order = ['distance'], axis = 0)"
   ]
  },
  {
   "cell_type": "code",
   "execution_count": 55,
   "metadata": {},
   "outputs": [
    {
     "data": {
      "text/plain": [
       "array([[8, 6],\n",
       "       [4, 3],\n",
       "       [7, 4],\n",
       "       [4, 1],\n",
       "       [3, 2],\n",
       "       [7, 8],\n",
       "       [9, 4],\n",
       "       [7, 1]])"
      ]
     },
     "execution_count": 55,
     "metadata": {},
     "output_type": "execute_result"
    }
   ],
   "source": [
    "b = [('a',9),('b',5),('c',0),('d',2)]\n",
    "get_k_min(b , 2)"
   ]
  },
  {
   "cell_type": "code",
   "execution_count": 60,
   "metadata": {},
   "outputs": [
    {
     "data": {
      "text/plain": [
       "array([[(4, 0)],\n",
       "       [(3, 1)],\n",
       "       [(3, 2)],\n",
       "       [(9, 2)]], dtype=[('f0', '<i8'), ('f1', '<i8')])"
      ]
     },
     "execution_count": 60,
     "metadata": {},
     "output_type": "execute_result"
    }
   ],
   "source": [
    "# No more works\n",
    "a = np.random.randint(0,10,16).reshape((8,2))\n",
    "np.random.shuffle(a)\n",
    "a\n",
    "get_k_min(a, 4)"
   ]
  }
 ],
 "metadata": {
  "kernelspec": {
   "display_name": "Python 3",
   "language": "python",
   "name": "python3"
  },
  "language_info": {
   "codemirror_mode": {
    "name": "ipython",
    "version": 3
   },
   "file_extension": ".py",
   "mimetype": "text/x-python",
   "name": "python",
   "nbconvert_exporter": "python",
   "pygments_lexer": "ipython3",
   "version": "3.8.10"
  }
 },
 "nbformat": 4,
 "nbformat_minor": 4
}
