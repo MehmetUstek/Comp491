{
 "cells": [
  {
   "cell_type": "code",
   "execution_count": 13,
   "metadata": {},
   "outputs": [],
   "source": [
    "import numpy as np\n",
    "from sklearn import preprocessing"
   ]
  },
  {
   "cell_type": "code",
   "execution_count": 7,
   "metadata": {},
   "outputs": [
    {
     "data": {
      "text/plain": [
       "array([[72.3354855 ],\n",
       "       [18.81156952],\n",
       "       [80.99136324],\n",
       "       [33.05240934],\n",
       "       [82.8937405 ],\n",
       "       [51.66416221],\n",
       "       [99.71202718],\n",
       "       [77.48112661],\n",
       "       [92.71784848],\n",
       "       [55.27019601],\n",
       "       [89.11894106],\n",
       "       [30.34755103],\n",
       "       [68.42685103],\n",
       "       [72.27408066],\n",
       "       [48.58019276],\n",
       "       [45.2494043 ],\n",
       "       [16.98376893],\n",
       "       [62.43656659],\n",
       "       [92.45835171],\n",
       "       [96.41422371],\n",
       "       [38.97637536],\n",
       "       [30.46015173],\n",
       "       [91.35329519],\n",
       "       [ 4.60625919],\n",
       "       [62.83740662],\n",
       "       [82.75383025],\n",
       "       [16.8566915 ],\n",
       "       [82.96734193],\n",
       "       [51.91080194],\n",
       "       [67.42717756],\n",
       "       [32.47548806],\n",
       "       [70.68349432],\n",
       "       [72.88544914],\n",
       "       [59.91653645],\n",
       "       [22.78818793],\n",
       "       [99.08067681],\n",
       "       [87.08063828],\n",
       "       [22.25889579],\n",
       "       [14.06492736],\n",
       "       [68.35388949],\n",
       "       [51.7781143 ],\n",
       "       [92.91067947],\n",
       "       [21.53564554],\n",
       "       [59.4514092 ],\n",
       "       [30.3825235 ],\n",
       "       [72.15237016],\n",
       "       [13.69226275],\n",
       "       [11.60865789],\n",
       "       [34.51654877],\n",
       "       [94.60257911],\n",
       "       [82.13379227],\n",
       "       [17.88255292],\n",
       "       [55.24022203],\n",
       "       [15.80064719],\n",
       "       [77.74468211],\n",
       "       [70.81575572],\n",
       "       [99.62505161],\n",
       "       [32.27350643],\n",
       "       [66.10018933],\n",
       "       [91.41199289],\n",
       "       [70.51649279],\n",
       "       [41.06593274],\n",
       "       [70.81369814],\n",
       "       [46.11920537],\n",
       "       [32.60556994],\n",
       "       [81.72140236],\n",
       "       [31.38798025],\n",
       "       [ 1.51986353],\n",
       "       [78.79416136],\n",
       "       [74.22177501],\n",
       "       [78.70358533],\n",
       "       [28.57933171],\n",
       "       [70.21101138],\n",
       "       [83.25365171],\n",
       "       [27.98596862],\n",
       "       [78.24483537],\n",
       "       [34.86663824],\n",
       "       [74.29416776],\n",
       "       [ 3.99421864],\n",
       "       [50.56846563],\n",
       "       [49.2358181 ],\n",
       "       [87.09725399],\n",
       "       [12.75219125],\n",
       "       [39.833042  ],\n",
       "       [84.50006722],\n",
       "       [92.83866868],\n",
       "       [58.21559223],\n",
       "       [22.63720197],\n",
       "       [34.87058771],\n",
       "       [88.38547871],\n",
       "       [95.78768358],\n",
       "       [86.52988565],\n",
       "       [83.33548946],\n",
       "       [ 5.48665311],\n",
       "       [56.43741736],\n",
       "       [73.13531566],\n",
       "       [73.63924252],\n",
       "       [19.78960333],\n",
       "       [83.04182429],\n",
       "       [ 1.64207191]])"
      ]
     },
     "execution_count": 7,
     "metadata": {},
     "output_type": "execute_result"
    }
   ],
   "source": [
    "# Lets go with column vector style\n",
    "scores = np.random.rand(100) * 100\n",
    "scores = scores.reshape((100,1))\n",
    "scores"
   ]
  },
  {
   "cell_type": "code",
   "execution_count": 8,
   "metadata": {},
   "outputs": [],
   "source": [
    "def z_normalization(vector):\n",
    "    m = np.mean(vector, axis = 0)\n",
    "    dev = np.std(vector, axis = 0)\n",
    "    return (vector - m)/dev"
   ]
  },
  {
   "cell_type": "code",
   "execution_count": 14,
   "metadata": {},
   "outputs": [],
   "source": [
    "def z_normalization_keras(vector):\n",
    "    std_scale = preprocessing.StandardScaler().fit(vector)\n",
    "    normalized = std_scale.transform(vector)\n",
    "    return normalized"
   ]
  },
  {
   "cell_type": "code",
   "execution_count": 21,
   "metadata": {},
   "outputs": [
    {
     "name": "stdout",
     "output_type": "stream",
     "text": [
      "424 µs ± 39.6 µs per loop (mean ± std. dev. of 7 runs, 1000 loops each)\n"
     ]
    }
   ],
   "source": [
    "%%timeit\n",
    "max_min_normalization(scores)"
   ]
  },
  {
   "cell_type": "code",
   "execution_count": null,
   "metadata": {},
   "outputs": [],
   "source": [
    "%%timeit\n",
    "max_min_normalization(scores)"
   ]
  }
 ],
 "metadata": {
  "kernelspec": {
   "display_name": "Python 3",
   "language": "python",
   "name": "python3"
  },
  "language_info": {
   "codemirror_mode": {
    "name": "ipython",
    "version": 3
   },
   "file_extension": ".py",
   "mimetype": "text/x-python",
   "name": "python",
   "nbconvert_exporter": "python",
   "pygments_lexer": "ipython3",
   "version": "3.8.10"
  }
 },
 "nbformat": 4,
 "nbformat_minor": 4
}
