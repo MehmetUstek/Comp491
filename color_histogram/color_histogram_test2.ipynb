{
 "cells": [
  {
   "cell_type": "code",
   "execution_count": 12,
   "metadata": {},
   "outputs": [],
   "source": [
    "from collections import Counter\n",
    "from skimage import io\n",
    "import numpy as np\n",
    "import matplotlib.pyplot as plt\n",
    "import PIL\n",
    "from sklearn.cluster import KMeans\n",
    "%matplotlib inline"
   ]
  },
  {
   "cell_type": "markdown",
   "metadata": {},
   "source": [
    "TEST"
   ]
  },
  {
   "cell_type": "code",
   "execution_count": 13,
   "metadata": {},
   "outputs": [],
   "source": [
    "clt = KMeans(n_clusters=10)"
   ]
  },
  {
   "cell_type": "code",
   "execution_count": 14,
   "metadata": {},
   "outputs": [],
   "source": [
    "def show_img_compar(img_1, img_2 ):\n",
    "    f, ax = plt.subplots(1, 2, figsize=(10,10))\n",
    "    ax[0].imshow(img_1)\n",
    "    ax[1].imshow(img_2)\n",
    "    ax[0].axis('off') #hide the axis\n",
    "    ax[1].axis('off')\n",
    "    f.tight_layout()\n",
    "    plt.show()"
   ]
  },
  {
   "cell_type": "code",
   "execution_count": 15,
   "metadata": {},
   "outputs": [],
   "source": [
    "image = io.imread('~/Desktop/selam.png')\n",
    "image_arr = np.array(image)\n",
    "image_arr = np.reshape(image_arr, (-1, 4))\n",
    "image_arr = image_arr[image_arr[:,3] > 50][:,:3]\n"
   ]
  },
  {
   "cell_type": "code",
   "execution_count": 16,
   "metadata": {},
   "outputs": [],
   "source": [
    "from collections import Counter\n",
    "\n",
    "def palette_perc(k_cluster):\n",
    "    n_pixels = len(k_cluster.labels_)\n",
    "    counter = Counter(k_cluster.labels_) # count how many pixels per cluster\n",
    "    perc = {}\n",
    "    for i in counter:\n",
    "        perc[i] = np.round(counter[i]/n_pixels, 2)\n",
    "    perc = dict(sorted(perc.items()))\n",
    "        \n",
    "    return  k_cluster.cluster_centers_, perc\n",
    "    \n",
    "clt_1 = clt.fit(image_arr)\n",
    "colors, percentage = palette_perc(clt_1) \n",
    "\n"
   ]
  },
  {
   "cell_type": "code",
   "execution_count": 17,
   "metadata": {},
   "outputs": [],
   "source": [
    "def color_pair_score(color1, color2):\n",
    "    color1 = np.array(color1)\n",
    "    color2 = np.array(color2)\n",
    "    color_distance = np.linalg.norm(color1 - color2)\n",
    "    #print(color_distance)\n",
    "    return -color_distance**2\n"
   ]
  },
  {
   "cell_type": "code",
   "execution_count": 18,
   "metadata": {},
   "outputs": [],
   "source": [
    "def create_score_matrix(color_arr_1, color_arr_2):\n",
    "    score_arr = np.zeros((len(color_arr_1), len(color_arr_2)))\n",
    "    for x, color1 in enumerate(color_arr_1):\n",
    "        for y, color2 in enumerate(color_arr_2):\n",
    "            score = color_pair_score(color1, color2)\n",
    "            score_arr[x, y] = score\n",
    "    return score_arr\n",
    "    \n",
    "color_pair_matrix = create_score_matrix(colors, colors)\n"
   ]
  },
  {
   "cell_type": "code",
   "execution_count": 19,
   "metadata": {},
   "outputs": [],
   "source": [
    "N = 10\n",
    "def wPrefersM1OverM(color_pair_matrix, w, m, m1):\n",
    "    if(color_pair_matrix[w][m1] > color_pair_matrix[w][m]):\n",
    "         return True\n",
    "    else:\n",
    "        return False\n"
   ]
  },
  {
   "cell_type": "code",
   "execution_count": 20,
   "metadata": {},
   "outputs": [],
   "source": [
    "def find_color_pairs(color_pair_matrix):\n",
    "     \n",
    "    # Stores partner of women. This is our output\n",
    "    # array that stores passing information.\n",
    "    # The value of wPartner[i] indicates the partner\n",
    "    # assigned to woman N+i. Note that the woman numbers\n",
    "    # between N and 2*N-1. The value -1 indicates\n",
    "    # that (N+i)'th woman is free\n",
    "    wPartner = [-1 for i in range(N)]\n",
    " \n",
    "    # An array to store availability of men.\n",
    "    # If mFree[i] is false, then man 'i' is free,\n",
    "    # otherwise engaged.\n",
    "    mFree = [False for i in range(N)]\n",
    " \n",
    "    freeCount = N\n",
    " \n",
    "    # While there are free men\n",
    "    while (freeCount > 0):\n",
    "         \n",
    "        # Pick the first free man (we could pick any)\n",
    "        m = 0\n",
    "        while (m < N):\n",
    "            if (mFree[m] == False):\n",
    "                break\n",
    "            m += 1\n",
    " \n",
    "        # One by one go to all women according to\n",
    "        # m's preferences. Here m is the picked free man\n",
    "        i = 0\n",
    "        m_pref = np.flip(np.argsort(color_pair_matrix[:, m]))\n",
    "        while i < N and mFree[m] == False:\n",
    "            w = m_pref[i]\n",
    " \n",
    "            # The woman of preference is free,\n",
    "            # w and m become partners (Note that\n",
    "            # the partnership maybe changed later).\n",
    "            # So we can say they are engaged not married\n",
    "            if (wPartner[w] == -1):\n",
    "                wPartner[w] = m\n",
    "                mFree[m] = True\n",
    "                freeCount -= 1\n",
    " \n",
    "            else:\n",
    "                 \n",
    "                # If w is not free\n",
    "                # Find current engagement of w\n",
    "                m1 = wPartner[w]\n",
    " \n",
    "                # If w prefers m over her current engagement m1,\n",
    "                # then break the engagement between w and m1 and\n",
    "                # engage m with w.\n",
    "                if (wPrefersM1OverM(color_pair_matrix, w, m, m1) == False):\n",
    "                    wPartner[w] = m\n",
    "                    mFree[m] = True\n",
    "                    mFree[m1] = False\n",
    "            i += 1\n",
    " \n",
    "            # End of Else\n",
    "        # End of the for loop that goes\n",
    "        # to all women in m's list\n",
    "    # End of main while loop\n",
    " \n",
    "    # Print solution\n",
    "    return wPartner\n",
    "        \n",
    "img1_pairs = find_color_pairs(color_pair_matrix)"
   ]
  },
  {
   "cell_type": "code",
   "execution_count": 21,
   "metadata": {},
   "outputs": [],
   "source": [
    "def color_similarity_score(img1_pairs, color_pair_matrix, img_per_1, img_per_2):\n",
    "    score = 0\n",
    "    for i, m in enumerate(img1_pairs):\n",
    "        score += color_pair_matrix[i, m] * img_per_1[i] * img_per_2[m]\n",
    "    return score\n",
    "\n",
    "score = color_similarity_score(img1_pairs, color_pair_matrix, percentage, percentage)  \n",
    "  "
   ]
  },
  {
   "cell_type": "markdown",
   "metadata": {},
   "source": [
    "AUTOMATION"
   ]
  },
  {
   "cell_type": "markdown",
   "metadata": {},
   "source": []
  },
  {
   "cell_type": "code",
   "execution_count": 22,
   "metadata": {},
   "outputs": [
    {
     "name": "stderr",
     "output_type": "stream",
     "text": [
      "/var/folders/mn/pb5mjrt51x978v3d_w31p7kc0000gn/T/ipykernel_1702/3072083945.py:26: FutureWarning: The input object of type 'PngImageFile' is an array-like implementing one of the corresponding protocols (`__array__`, `__array_interface__` or `__array_struct__`); but not a sequence (or 0-D). In the future, this object will be coerced as if it was first converted using `np.array(obj)`. To retain the old behaviour, you have to either modify the type 'PngImageFile', or assign to an empty array created with `np.empty(correct_shape, dtype=object)`.\n",
      "  image_list = np.array(image_list, dtype=object)\n"
     ]
    }
   ],
   "source": [
    "from PIL import Image\n",
    "import glob\n",
    "image_list = []\n",
    "percentage_list = []\n",
    "colors_list = []\n",
    "filename_list = []\n",
    "for path in glob.glob('/Users/cemkilinc/Desktop/test_out/*.png'): #assuming gif\n",
    "    img=Image.open(path)\n",
    "    \n",
    "    img_arr = np.array(img)\n",
    "    img_arr = np.reshape(img, (-1, 4))\n",
    "    img_arr = img_arr[img_arr[:,3] > 50][:,:3]\n",
    "    \n",
    "    clt = KMeans(n_clusters=10)\n",
    "    clt_1 = clt.fit(img_arr.reshape(-1, 3))\n",
    "\n",
    "    colors, percentage = palette_perc(clt_1)   \n",
    "    #show_img_compar(img, palette)\n",
    "    filename = path[path.rfind(\"/\")+1:]\n",
    "    filename_list.append(filename)\n",
    "    image_list.append(img)\n",
    "    percentage_list.append(percentage)\n",
    "    colors_list.append(colors)\n",
    "    \n",
    "\n",
    "image_list = np.array(image_list, dtype=object)\n",
    "percentage_list = np.array(percentage_list, dtype=object)\n",
    "colors_list = np.array(colors_list, dtype=object)"
   ]
  },
  {
   "cell_type": "code",
   "execution_count": 23,
   "metadata": {},
   "outputs": [
    {
     "name": "stdout",
     "output_type": "stream",
     "text": [
      "4.png and 2.png similarity score: -7002.101897862883\n",
      "4.png and 3.png similarity score: -898.8346393432917\n",
      "4.png and 1.png similarity score: -1848.6718344758715\n",
      "2.png and 3.png similarity score: -10941.343794064953\n",
      "2.png and 1.png similarity score: -379.46725497302003\n",
      "3.png and 1.png similarity score: -7049.962536457321\n"
     ]
    }
   ],
   "source": [
    "number_of_images = len(image_list)\n",
    "score_dict = {}\n",
    "for i in range(number_of_images):\n",
    "    score_dict[filename_list[i]] = {}\n",
    "    for j in range(i+1, number_of_images):\n",
    "        #print(str(i) + \" \" + str(j))\n",
    "\n",
    "        color_arr_1 = colors_list[i]\n",
    "        percentage_1 = percentage_list[i]\n",
    "        color_arr_2 = colors_list[j]\n",
    "        percentage_2 = percentage_list[j]\n",
    "\n",
    "        color_pair_matrix = create_score_matrix(color_arr_1, color_arr_2)\n",
    "        img1_pairs = find_color_pairs(color_pair_matrix)\n",
    "        score = color_similarity_score(img1_pairs, color_pair_matrix, percentage_1, percentage_2)  \n",
    "        score_dict[filename_list[i]][filename_list[j]] = str(score)\n",
    "        print(filename_list[i] + \" and \" + filename_list[j] + \" similarity score: \" + str(score))\n",
    "        \n"
   ]
  },
  {
   "cell_type": "code",
   "execution_count": 24,
   "metadata": {},
   "outputs": [],
   "source": [
    "dict_save = {\"scores\" : score_dict,\n",
    "             \"filenames\" : filename_list,\n",
    "             \"colors\" : colors_list,\n",
    "             \"percentages\" : percentage_list}\n",
    "\n",
    "\n",
    "with open(\"saved_dict.txt\", 'w') as f: \n",
    "    for key, value in dict_save.items(): \n",
    "        f.write('%s:%s\\n' % (key, value))             \n"
   ]
  },
  {
   "cell_type": "code",
   "execution_count": 25,
   "metadata": {},
   "outputs": [
    {
     "name": "stdout",
     "output_type": "stream",
     "text": [
      "Data type before reconstruction :  <class 'str'>\n"
     ]
    },
    {
     "ename": "SyntaxError",
     "evalue": "invalid syntax (<unknown>, line 1)",
     "output_type": "error",
     "traceback": [
      "Traceback \u001b[0;36m(most recent call last)\u001b[0m:\n",
      "  File \u001b[1;32m\"/opt/anaconda3/lib/python3.9/site-packages/IPython/core/interactiveshell.py\"\u001b[0m, line \u001b[1;32m3444\u001b[0m, in \u001b[1;35mrun_code\u001b[0m\n    exec(code_obj, self.user_global_ns, self.user_ns)\n",
      "  File \u001b[1;32m\"/var/folders/mn/pb5mjrt51x978v3d_w31p7kc0000gn/T/ipykernel_1702/702459047.py\"\u001b[0m, line \u001b[1;32m10\u001b[0m, in \u001b[1;35m<module>\u001b[0m\n    d = ast.literal_eval(data)\n",
      "  File \u001b[1;32m\"/opt/anaconda3/lib/python3.9/ast.py\"\u001b[0m, line \u001b[1;32m62\u001b[0m, in \u001b[1;35mliteral_eval\u001b[0m\n    node_or_string = parse(node_or_string, mode='eval')\n",
      "\u001b[0;36m  File \u001b[0;32m\"/opt/anaconda3/lib/python3.9/ast.py\"\u001b[0;36m, line \u001b[0;32m50\u001b[0;36m, in \u001b[0;35mparse\u001b[0;36m\u001b[0m\n\u001b[0;31m    return compile(source, filename, mode, flags,\u001b[0m\n",
      "\u001b[0;36m  File \u001b[0;32m\"<unknown>\"\u001b[0;36m, line \u001b[0;32m1\u001b[0m\n\u001b[0;31m    scores:{'4.png': {'2.png': '-7002.101897862883', '3.png': '-898.8346393432917', '1.png': '-1848.6718344758715'}, '2.png': {'3.png': '-10941.343794064953', '1.png': '-379.46725497302003'}, '3.png': {'1.png': '-7049.962536457321'}, '1.png': {}}\u001b[0m\n\u001b[0m          ^\u001b[0m\n\u001b[0;31mSyntaxError\u001b[0m\u001b[0;31m:\u001b[0m invalid syntax\n"
     ]
    }
   ],
   "source": [
    "import ast\n",
    "  \n",
    "# reading the data from the file\n",
    "with open('saved_dict.txt') as f:\n",
    "    data = f.read()\n",
    "  \n",
    "print(\"Data type before reconstruction : \", type(data))\n",
    "      \n",
    "# reconstructing the data as a dictionary\n",
    "d = ast.literal_eval(data)\n",
    "  \n",
    "print(\"Data type after reconstruction : \", type(d))\n",
    "print(d)"
   ]
  },
  {
   "cell_type": "code",
   "execution_count": null,
   "metadata": {},
   "outputs": [],
   "source": []
  }
 ],
 "metadata": {
  "interpreter": {
   "hash": "40d3a090f54c6569ab1632332b64b2c03c39dcf918b08424e98f38b5ae0af88f"
  },
  "kernelspec": {
   "display_name": "Python 3.9.7 ('base')",
   "language": "python",
   "name": "python3"
  },
  "language_info": {
   "codemirror_mode": {
    "name": "ipython",
    "version": 3
   },
   "file_extension": ".py",
   "mimetype": "text/x-python",
   "name": "python",
   "nbconvert_exporter": "python",
   "pygments_lexer": "ipython3",
   "version": "3.9.7"
  },
  "orig_nbformat": 4
 },
 "nbformat": 4,
 "nbformat_minor": 2
}
